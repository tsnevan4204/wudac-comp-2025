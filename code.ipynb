{
 "cells": [
  {
   "cell_type": "markdown",
   "id": "fbbd44ea",
   "metadata": {},
   "source": [
    "Data Loading and Merging"
   ]
  },
  {
   "cell_type": "code",
   "execution_count": null,
   "id": "cacaf251",
   "metadata": {},
   "outputs": [],
   "source": [
    "import pandas as pd\n",
    "\n",
    "# Load sessions and transactions\n",
    "sessions = pd.read_csv(\"sessions.csv\")\n",
    "transactions = pd.read_csv(\"transactions.csv\")\n",
    "\n",
    "# Mark sessions that had purchases\n",
    "purchased_sessions = transactions[['machine_id', 'site_session_id']].drop_duplicates()\n",
    "sessions['made_purchase'] = sessions.merge(\n",
    "    purchased_sessions,\n",
    "    on=['machine_id', 'site_session_id'],\n",
    "    how='left',\n",
    "    indicator=True\n",
    ")['_merge'] == 'both'"
   ]
  },
  {
   "cell_type": "markdown",
   "id": "d493a15f",
   "metadata": {},
   "source": [
    "Filtering for Abandonment Labels"
   ]
  },
  {
   "cell_type": "code",
   "execution_count": null,
   "id": "b825b94a",
   "metadata": {},
   "outputs": [],
   "source": [
    "# Keep sessions with >1 page view for intent filtering\n",
    "filtered_sessions = sessions[sessions['pages_viewed'] > 1].copy()\n",
    "filtered_sessions['abandoned'] = ~filtered_sessions['made_purchase']"
   ]
  },
  {
   "cell_type": "markdown",
   "id": "50f6b5b5",
   "metadata": {},
   "source": [
    "Feature Engineering"
   ]
  },
  {
   "cell_type": "markdown",
   "id": "08227ea9",
   "metadata": {},
   "source": [
    "Time-of-Day Buckets"
   ]
  },
  {
   "cell_type": "code",
   "execution_count": null,
   "id": "0abda82f",
   "metadata": {},
   "outputs": [],
   "source": [
    "import datetime\n",
    "\n",
    "def bucket_time(hour):\n",
    "    if 6 <= hour < 12:\n",
    "        return 'Morning'\n",
    "    elif 12 <= hour < 18:\n",
    "        return 'Afternoon'\n",
    "    elif 18 <= hour < 24:\n",
    "        return 'Evening'\n",
    "    else:\n",
    "        return 'Late Night'\n",
    "\n",
    "filtered_sessions['event_hour'] = pd.to_datetime(\n",
    "    filtered_sessions['event_time'], format=\"%H:%M:%S\"\n",
    ").dt.hour\n",
    "filtered_sessions['time_of_day'] = filtered_sessions['event_hour'].apply(bucket_time)\n"
   ]
  },
  {
   "cell_type": "markdown",
   "id": "c54bc670",
   "metadata": {},
   "source": [
    "Pages Per Minute"
   ]
  },
  {
   "cell_type": "code",
   "execution_count": null,
   "id": "ab3ee1d3",
   "metadata": {},
   "outputs": [],
   "source": [
    "filtered_sessions['pages_per_minute'] = filtered_sessions['pages_viewed'] / (\n",
    "    filtered_sessions['duration'] + 0.01  # avoid division by zero\n",
    ")"
   ]
  },
  {
   "cell_type": "markdown",
   "id": "1c1aab48",
   "metadata": {},
   "source": [
    "Referral Type Bucketing"
   ]
  },
  {
   "cell_type": "code",
   "execution_count": null,
   "id": "4f03f4e6",
   "metadata": {},
   "outputs": [],
   "source": [
    "def classify_referrer(domain):\n",
    "    if pd.isna(domain) or domain == '':\n",
    "        return 'Direct'\n",
    "    elif 'facebook' in domain or 'twitter' in domain:\n",
    "        return 'Social Media'\n",
    "    elif 'google' in domain or 'bing' in domain:\n",
    "        return 'Search Engine'\n",
    "    elif 'email' in domain or 'mail' in domain:\n",
    "        return 'Email Campaign'\n",
    "    else:\n",
    "        return 'Referral Site'\n",
    "\n",
    "filtered_sessions['referral_type'] = filtered_sessions['ref_domain_name'].apply(classify_referrer)\n"
   ]
  },
  {
   "cell_type": "markdown",
   "id": "c7019944",
   "metadata": {},
   "source": [
    "Income Bracket Binning"
   ]
  },
  {
   "cell_type": "code",
   "execution_count": null,
   "id": "d57499af",
   "metadata": {},
   "outputs": [],
   "source": [
    "def income_bracket(val):\n",
    "    if val in [11, 12]:\n",
    "        return 'Low'\n",
    "    elif val in [13, 14, 15]:\n",
    "        return 'Medium'\n",
    "    elif val in [16, 17, 18]:\n",
    "        return 'High'\n",
    "    else:\n",
    "        return 'Unknown'\n",
    "\n",
    "filtered_sessions['income_bracket'] = filtered_sessions['household_income'].apply(income_bracket)\n"
   ]
  },
  {
   "cell_type": "markdown",
   "id": "15d382db",
   "metadata": {},
   "source": [
    "EDA and Visualizations"
   ]
  },
  {
   "cell_type": "markdown",
   "id": "c027f10f",
   "metadata": {},
   "source": [
    "Pages Viewed vs. Abandonment"
   ]
  },
  {
   "cell_type": "code",
   "execution_count": null,
   "id": "17068c70",
   "metadata": {},
   "outputs": [],
   "source": [
    "import seaborn as sns\n",
    "import matplotlib.pyplot as plt\n",
    "\n",
    "plt.figure(figsize=(10, 6))\n",
    "sns.histplot(data=filtered_sessions, x='pages_viewed', hue='abandoned', bins=30, kde=True)\n",
    "plt.title(\"Pages Viewed Distribution by Abandonment\")\n",
    "plt.xlabel(\"Pages Viewed\")\n",
    "plt.ylabel(\"Session Count\")\n",
    "plt.show()"
   ]
  },
  {
   "cell_type": "markdown",
   "id": "01a740dc",
   "metadata": {},
   "source": [
    "Abandonment by Time of Day"
   ]
  },
  {
   "cell_type": "code",
   "execution_count": null,
   "id": "0e9da964",
   "metadata": {},
   "outputs": [],
   "source": [
    "abandon_by_time = filtered_sessions.groupby(\"time_of_day\")[\"abandoned\"].mean().reset_index()\n",
    "\n",
    "sns.barplot(data=abandon_by_time, x=\"time_of_day\", y=\"abandoned\", order=[\"Morning\", \"Afternoon\", \"Evening\", \"Late Night\"])\n",
    "plt.title(\"Abandonment Rate by Time of Day\")\n",
    "plt.ylabel(\"Abandonment Rate\")\n",
    "plt.show()"
   ]
  },
  {
   "cell_type": "markdown",
   "id": "ab447288",
   "metadata": {},
   "source": [
    "Abandonment by Referral Source"
   ]
  },
  {
   "cell_type": "code",
   "execution_count": null,
   "id": "2410d5fc",
   "metadata": {},
   "outputs": [],
   "source": [
    "abandon_by_ref = filtered_sessions.groupby(\"referral_type\")[\"abandoned\"].mean().reset_index()\n",
    "\n",
    "sns.barplot(data=abandon_by_ref, y=\"referral_type\", x=\"abandoned\")\n",
    "plt.title(\"Abandonment Rate by Referral Type\")\n",
    "plt.xlabel(\"Abandonment Rate\")\n",
    "plt.ylabel(\"Referral Type\")\n",
    "plt.show()"
   ]
  },
  {
   "cell_type": "markdown",
   "id": "ab2566a9",
   "metadata": {},
   "source": [
    "Modeling"
   ]
  },
  {
   "cell_type": "markdown",
   "id": "5805dc31",
   "metadata": {},
   "source": [
    "Logistic Regression"
   ]
  },
  {
   "cell_type": "code",
   "execution_count": null,
   "id": "13504f13",
   "metadata": {},
   "outputs": [],
   "source": [
    "from sklearn.linear_model import LogisticRegression\n",
    "from sklearn.model_selection import train_test_split\n",
    "from sklearn.preprocessing import StandardScaler\n",
    "from sklearn.metrics import roc_auc_score\n",
    "\n",
    "# Select features\n",
    "features = ['pages_viewed', 'duration', 'pages_per_minute']\n",
    "X = filtered_sessions[features]\n",
    "y = filtered_sessions['abandoned']\n",
    "\n",
    "# Train/test split\n",
    "X_train, X_test, y_train, y_test = train_test_split(X, y, stratify=y, test_size=0.2)\n",
    "\n",
    "# Standardize\n",
    "scaler = StandardScaler()\n",
    "X_train_scaled = scaler.fit_transform(X_train)\n",
    "X_test_scaled = scaler.transform(X_test)\n",
    "\n",
    "# Logistic model\n",
    "logreg = LogisticRegression()\n",
    "logreg.fit(X_train_scaled, y_train)\n",
    "y_pred_prob = logreg.predict_proba(X_test_scaled)[:, 1]\n",
    "\n",
    "print(\"LogReg AUC:\", roc_auc_score(y_test, y_pred_prob))"
   ]
  },
  {
   "cell_type": "markdown",
   "id": "363f0f66",
   "metadata": {},
   "source": [
    "Random Forest"
   ]
  },
  {
   "cell_type": "code",
   "execution_count": null,
   "id": "ce5b83da",
   "metadata": {},
   "outputs": [],
   "source": [
    "from sklearn.ensemble import RandomForestClassifier\n",
    "\n",
    "rf = RandomForestClassifier(n_estimators=100, max_depth=10, class_weight='balanced')\n",
    "rf.fit(X_train, y_train)\n",
    "rf_preds = rf.predict_proba(X_test)[:, 1]\n",
    "print(\"Random Forest AUC:\", roc_auc_score(y_test, rf_preds))"
   ]
  },
  {
   "cell_type": "markdown",
   "id": "3543db23",
   "metadata": {},
   "source": [
    "XGBoost"
   ]
  },
  {
   "cell_type": "code",
   "execution_count": null,
   "id": "290be07b",
   "metadata": {},
   "outputs": [],
   "source": [
    "import xgboost as xgb\n",
    "\n",
    "xgb_model = xgb.XGBClassifier(n_estimators=200, max_depth=6, learning_rate=0.1, scale_pos_weight=9, use_label_encoder=False, eval_metric='auc')\n",
    "xgb_model.fit(X_train, y_train)\n",
    "xgb_preds = xgb_model.predict_proba(X_test)[:, 1]\n",
    "\n",
    "print(\"XGBoost AUC:\", roc_auc_score(y_test, xgb_preds))"
   ]
  },
  {
   "cell_type": "markdown",
   "id": "6b256697",
   "metadata": {},
   "source": [
    "SHAP for Explainability"
   ]
  },
  {
   "cell_type": "code",
   "execution_count": null,
   "id": "86f72611",
   "metadata": {},
   "outputs": [],
   "source": [
    "import shap\n",
    "\n",
    "explainer = shap.Explainer(xgb_model)\n",
    "shap_values = explainer(X_test)\n",
    "\n",
    "shap.plots.bar(shap_values)"
   ]
  }
 ],
 "metadata": {
  "language_info": {
   "name": "python"
  }
 },
 "nbformat": 4,
 "nbformat_minor": 5
}
