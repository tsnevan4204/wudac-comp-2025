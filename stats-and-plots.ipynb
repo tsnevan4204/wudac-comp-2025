{
 "cells": [
  {
   "cell_type": "code",
   "execution_count": 1,
   "id": "024fc34a",
   "metadata": {},
   "outputs": [],
   "source": [
    "import pandas as pd\n",
    "import numpy as np"
   ]
  },
  {
   "cell_type": "code",
   "execution_count": null,
   "id": "8b4c595f",
   "metadata": {},
   "outputs": [],
   "source": [
    "df = pd.read_csv('preprocessed.csv')"
   ]
  },
  {
   "cell_type": "code",
   "execution_count": null,
   "id": "1aa982b1",
   "metadata": {},
   "outputs": [],
   "source": [
    "entropy_means = df[df['income_group'] != 99].groupby(['income_group_label', 'is_buyer'])['category_entropy'].mean().unstack()\n",
    "print(\"Average Category Entropy (Buyers vs Non-Buyers):\\n\")\n",
    "print(entropy_means.round(3))"
   ]
  },
  {
   "cell_type": "code",
   "execution_count": null,
   "id": "e73a7789",
   "metadata": {},
   "outputs": [],
   "source": [
    "import matplotlib.pyplot as plt\n",
    "import seaborn as sns\n",
    "\n",
    "# Set a clean style\n",
    "sns.set(style='whitegrid', context='notebook', palette='Set2')\n",
    "\n",
    "plt.figure(figsize=(10, 6))\n",
    "\n",
    "# Base boxplot\n",
    "sns.boxplot(\n",
    "    data=df[df['income_group'] != 99],\n",
    "    x='income_group_label',\n",
    "    y='category_entropy',\n",
    "    hue='is_buyer',\n",
    "    linewidth=2.5,\n",
    "    fliersize=0,  # hide outliers since we'll show them manually\n",
    "    width=0.6\n",
    ")\n",
    "\n",
    "# Overlay jittered points (outliers & spread)\n",
    "sns.stripplot(\n",
    "    data=df[df['income_group'] != 99],\n",
    "    x='income_group_label',\n",
    "    y='category_entropy',\n",
    "    hue='is_buyer',\n",
    "    dodge=True,\n",
    "    alpha=0.3,\n",
    "    color='black',\n",
    "    jitter=0.25,\n",
    "    marker='.',\n",
    "    size=3\n",
    ")\n",
    "\n",
    "# Beautify legend\n",
    "handles, labels = plt.gca().get_legend_handles_labels()\n",
    "by_label = dict(zip(labels, handles))\n",
    "plt.legend(by_label.values(), ['Non-Buyer', 'Buyer'], title=\"User Type\", loc='upper right')\n",
    "\n",
    "# Titles and labels\n",
    "plt.title(\"Category Entropy by Income Group\", fontsize=16, weight='bold')\n",
    "plt.xlabel(\"Income Group\", fontsize=13)\n",
    "plt.ylabel(\"Category Entropy (Choice Overload)\", fontsize=13)\n",
    "\n",
    "# Adjust ticks\n",
    "plt.xticks(fontsize=11)\n",
    "plt.yticks(fontsize=11)\n",
    "plt.ylim(-0.05, 2.1)\n",
    "\n",
    "# Add subtle grid and tighten layout\n",
    "plt.grid(True, axis='y', linestyle='--', alpha=0.5)\n",
    "plt.tight_layout()\n",
    "plt.show()"
   ]
  }
 ],
 "metadata": {
  "kernelspec": {
   "display_name": "base",
   "language": "python",
   "name": "python3"
  },
  "language_info": {
   "codemirror_mode": {
    "name": "ipython",
    "version": 3
   },
   "file_extension": ".py",
   "mimetype": "text/x-python",
   "name": "python",
   "nbconvert_exporter": "python",
   "pygments_lexer": "ipython3",
   "version": "3.9.12"
  }
 },
 "nbformat": 4,
 "nbformat_minor": 5
}
